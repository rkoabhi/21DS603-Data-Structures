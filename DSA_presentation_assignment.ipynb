{
 "cells": [
  {
   "cell_type": "markdown",
   "id": "d5fa671d",
   "metadata": {},
   "source": [
    "                                                                                            \n",
    "                                                                                 Abhishek Laxman Joshi - CB.EN.P2DSC21033\n",
    "                                                                                          "
   ]
  },
  {
   "cell_type": "markdown",
   "id": "fcbd2196",
   "metadata": {},
   "source": [
    "1. Construct a sparse and a dense matrices of size 1000x1000"
   ]
  },
  {
   "cell_type": "markdown",
   "id": "1f69a43d",
   "metadata": {},
   "source": [
    "A sparse matrix is a matrix in which most elements are zeroes.\n",
    "A dense matrix is one which high number of edges."
   ]
  },
  {
   "cell_type": "code",
   "execution_count": 1,
   "id": "77833f11",
   "metadata": {},
   "outputs": [
    {
     "name": "stdout",
     "output_type": "stream",
     "text": [
      "compressed sparse row matrix \n",
      "\n",
      "  (0, 2)\t0.9746613117407589\n",
      "  (0, 4)\t0.7471899528424176\n",
      "  (0, 7)\t0.9981773655205337\n",
      "  (0, 10)\t0.8571646059000492\n",
      "  (0, 11)\t0.8715730718095563\n",
      "  (0, 15)\t0.8695803267741399\n",
      "  (0, 18)\t0.7762187938627502\n",
      "  (0, 25)\t0.6251391138409724\n",
      "  (0, 27)\t0.9908727652551601\n",
      "  (0, 32)\t0.8381195256290308\n",
      "  (0, 33)\t0.7376105847730042\n",
      "  (0, 34)\t0.9061292068765903\n",
      "  (0, 37)\t0.8613692865076134\n",
      "  (0, 39)\t0.967659090761908\n",
      "  (0, 40)\t0.6730172218995903\n",
      "  (0, 45)\t0.6352294930747365\n",
      "  (0, 50)\t0.924285496136243\n",
      "  (0, 51)\t0.842701117065534\n",
      "  (0, 52)\t0.8518973817466428\n",
      "  (0, 53)\t0.8435748800371844\n",
      "  (0, 55)\t0.8716099167022294\n",
      "  (0, 60)\t0.9119993271712845\n",
      "  (0, 66)\t0.9389390662659504\n",
      "  (0, 75)\t0.8370158447518545\n",
      "  (0, 80)\t0.819121237654223\n",
      "  :\t:\n",
      "  (999, 934)\t0.8380926758901501\n",
      "  (999, 935)\t0.9668825799805711\n",
      "  (999, 941)\t0.8204059207804418\n",
      "  (999, 942)\t0.8721015374587839\n",
      "  (999, 943)\t0.7461862429747181\n",
      "  (999, 945)\t0.9690809679733675\n",
      "  (999, 946)\t0.7056784426056858\n",
      "  (999, 952)\t0.8964001207706416\n",
      "  (999, 954)\t0.9805481295994796\n",
      "  (999, 958)\t0.7380776445284508\n",
      "  (999, 961)\t0.7486984443775843\n",
      "  (999, 963)\t0.8606109108942815\n",
      "  (999, 969)\t0.6083568946650882\n",
      "  (999, 972)\t0.669240189574991\n",
      "  (999, 973)\t0.7165483211316239\n",
      "  (999, 976)\t0.896840759006863\n",
      "  (999, 977)\t0.9750633128212336\n",
      "  (999, 978)\t0.8096192344919768\n",
      "  (999, 988)\t0.6606390176049363\n",
      "  (999, 989)\t0.7998581329646745\n",
      "  (999, 991)\t0.9347503514488604\n",
      "  (999, 994)\t0.6763380556900973\n",
      "  (999, 995)\t0.667276884289142\n",
      "  (999, 996)\t0.8471390148163352\n",
      "  (999, 998)\t0.6216195978646917\n",
      "compressed sparse row matrix converted to array \n",
      "\n",
      "[[0.         0.         0.97466131 ... 0.73165166 0.60899028 0.        ]\n",
      " [0.6689603  0.82615346 0.86342945 ... 0.         0.61385975 0.        ]\n",
      " [0.80356941 0.         0.78522777 ... 0.         0.         0.92312104]\n",
      " ...\n",
      " [0.65960145 0.95515202 0.86104126 ... 0.         0.82840398 0.        ]\n",
      " [0.         0.         0.9417613  ... 0.         0.         0.        ]\n",
      " [0.         0.         0.99045126 ... 0.         0.6216196  0.        ]]\n",
      "print dense matrix \n",
      "\n",
      "[[0.         0.         0.97466131 ... 0.73165166 0.60899028 0.        ]\n",
      " [0.6689603  0.82615346 0.86342945 ... 0.         0.61385975 0.        ]\n",
      " [0.80356941 0.         0.78522777 ... 0.         0.         0.92312104]\n",
      " ...\n",
      " [0.65960145 0.95515202 0.86104126 ... 0.         0.82840398 0.        ]\n",
      " [0.         0.         0.9417613  ... 0.         0.         0.        ]\n",
      " [0.         0.         0.99045126 ... 0.         0.6216196  0.        ]]\n"
     ]
    }
   ],
   "source": [
    "import matplotlib.pyplot as plt\n",
    "import numpy as np\n",
    "from scipy import sparse\n",
    "#size is 1000*1000\n",
    "#create a simple matrix in Numpy.\n",
    "A = np.random.uniform(size=(1000,1000))\n",
    "#Then we need to zero out a majority of the matrix elements, making it sparse.\n",
    "A[A < 0.6] = 0\n",
    "#store standard matrix X as a compressed sparse row matrix\n",
    "A_csr = sparse.csr_matrix(A) # ROW MAJOR ODRDER\n",
    "# A_list = list(A_csr)\n",
    "# print(A_list)\n",
    "# convert a sparse Scipy matrix representation back to Numpy multidimensional array.\n",
    "B=A_csr.todense()\n",
    "print(\"compressed sparse row matrix \\n\")\n",
    "print(A_csr)\n",
    "print(\"compressed sparse row matrix converted to array \\n\")\n",
    "print(A_csr.toarray())\n",
    "sp = A_csr.toarray()\n",
    "print(\"print dense matrix \\n\")\n",
    "print(B)\n",
    "#or I can do it column wise\n",
    "A_csc = sparse.csc_matrix(A) # COLUMN MAJOR ORDER\n",
    "#print(\"compressed sparse matrix column matrix\")\n",
    "#print(A_csc)\n",
    "#print(\"Converted to array\")\n",
    "#print(A_csc.toarray())\n",
    "#plt.spy(A_csr, markersize = 1)"
   ]
  },
  {
   "cell_type": "markdown",
   "id": "e92370e9",
   "metadata": {},
   "source": [
    "Q2) Identify the Data structure to store given sparse matrix\n",
    "\n",
    "\n",
    "Data structure to be used for given sparse matrix will be Adjacency list"
   ]
  },
  {
   "cell_type": "markdown",
   "id": "360c9905",
   "metadata": {},
   "source": [
    "Q3) Justify the selection of your DS.\n",
    "\n",
    "\n",
    "If the graph is dense (number of edges is very high) then we go with the Adj matrix because E=O(V^2). E denotes edges and V denotes vertices.\n",
    "That is if the graph is almost complete, we use adj. matrix because most cells will be used.\n",
    "But for sparse( very few edges) its E=O(V). Therefore we go with Adjacency list.\n",
    "Lets take an example:\n",
    "In Facebook, there are million users. Then if I use Adj. Matrix, I will have to use million by million dimension matrix that is every node(Profile) will have million entries. But every person will not know every person. Even if a person has 5000 friends,most of the entries will be zero. A lot of space is wasted.\n",
    "Thus we use adjacency list.\n",
    "The number of elements present in list will be 2E in case of undirected else 'E' in case of directed.\n",
    "thus for adj matrix its O(V^2)\n",
    "for adj list its V+2E that is O(V+2E)"
   ]
  },
  {
   "cell_type": "code",
   "execution_count": 2,
   "id": "479757c0",
   "metadata": {},
   "outputs": [
    {
     "name": "stdout",
     "output_type": "stream",
     "text": [
      "[[0. 1. 0. ... 0. 0. 0.]\n",
      " [1. 0. 1. ... 0. 0. 0.]\n",
      " [0. 1. 0. ... 0. 0. 0.]\n",
      " ...\n",
      " [0. 0. 0. ... 0. 0. 0.]\n",
      " [0. 0. 0. ... 0. 0. 0.]\n",
      " [0. 0. 0. ... 0. 0. 0.]]\n"
     ]
    }
   ],
   "source": [
    "# importing necessary functions\n",
    "import numpy as np\n",
    "from scipy.sparse import isspmatrix\n",
    "from numpy import count_nonzero\n",
    "\n",
    "# Creating sparse matrix\n",
    "\n",
    "# Position of non zero elements\n",
    "row = np.array([0,0,1,1,1,1,2,2,3,3,3])\n",
    "col = np.array([1,4,0,2,3,4,1,3,1,4,2])\n",
    "    \n",
    "# Creating sparse matrix of size 1000 X 1000\n",
    "sparseMatrix=np.zeros([1000,1000]) # initially all ten lakh elements will be zero\n",
    "for i,j in zip(row,col): #zip is used for one to one correspondance\n",
    "  sparseMatrix[i][j]=1\n",
    "print(sparseMatrix)"
   ]
  },
  {
   "cell_type": "markdown",
   "id": "db0f6466",
   "metadata": {},
   "source": [
    "Q 4. Write a program to implement the data structure (free to use any programming language)"
   ]
  },
  {
   "cell_type": "code",
   "execution_count": 3,
   "id": "ea8e73b8",
   "metadata": {
    "scrolled": true
   },
   "outputs": [
    {
     "name": "stdout",
     "output_type": "stream",
     "text": [
      "Adjacency List:\n",
      "0 -> 1 -> 4\n",
      "1 -> 0 -> 2 -> 3 -> 4\n",
      "2 -> 1 -> 3\n",
      "3 -> 1 -> 2 -> 4\n",
      "**************************************\n",
      "defaultdict(<class 'list'>, {0: [1, 4], 1: [0, 2, 3, 4], 2: [1, 3], 3: [1, 2, 4]})\n"
     ]
    }
   ],
   "source": [
    "from collections import defaultdict\n",
    "import sys\n",
    "\n",
    "def convert(a):\n",
    "    adjList = defaultdict(list)\n",
    "    for i in range(len(a)):\n",
    "        for j in range(len(a[i])):\n",
    "                       if a[i][j]== 1:\n",
    "                           adjList[i].append(j)\n",
    "    return adjList\n",
    "\n",
    "#Create an array of lists and traverse the adjacency matrix or the sparse matrix\n",
    "#If for any cell (i, j) in the matrix a[i][j] = 1, it means there is an edge from i to j, \n",
    "#so insert j in the list at i-th position in the array of lists.\n",
    "a = sparseMatrix # adjacency matrix\n",
    "AdjList = convert(a)\n",
    "print(\"Adjacency List:\")\n",
    "\n",
    "# print the adjacency list\n",
    "for i in AdjList:\n",
    "    print(i, end =\"\")\n",
    "    for j in AdjList[i]:\n",
    "        print(\" -> {}\".format(j), end =\"\")\n",
    "    print()\n",
    "print('**************************************')\n",
    "print(AdjList)"
   ]
  },
  {
   "cell_type": "markdown",
   "id": "06e1abcc",
   "metadata": {},
   "source": [
    "5. Write a function to visualize the sparse matrix in a graphical format (free to use any programming language)\n",
    "\n"
   ]
  },
  {
   "cell_type": "code",
   "execution_count": 4,
   "id": "ae321a2e",
   "metadata": {},
   "outputs": [
    {
     "name": "stdout",
     "output_type": "stream",
     "text": [
      "[(0, 1), (0, 4), (1, 2), (1, 3), (1, 4), (4, 3), (2, 3)]\n"
     ]
    },
    {
     "data": {
      "image/png": "[encoded data removed]",
      "text/plain": [
       "<Figure size 432x288 with 1 Axes>"
      ]
     },
     "metadata": {},
     "output_type": "display_data"
    }
   ],
   "source": [
    "import networkx as nx\n",
    "import matplotlib.pyplot as plt\n",
    "\n",
    "graph = AdjList\n",
    "#stores all the edges which will constitute the graph\n",
    "edge = [] \n",
    "\n",
    "# Creating edges\n",
    "for i in graph:\n",
    "  for k in graph[i]:\n",
    "    tup = int(i), int(k)\n",
    "    edge.append(tup) # append the element to the empty list created\n",
    "\n",
    "g = nx.Graph() # g si the object of class Graph\n",
    "\n",
    "# Adding edges to the graph\n",
    "for e in edge:\n",
    "  g.add_edge(e[0], e[1])\n",
    "print(g.edges)\n",
    "\n",
    "nx.draw(g, with_labels = True) # to draw the graph nx.draw is used\n",
    "#plt.show()"
   ]
  },
  {
   "cell_type": "code",
   "execution_count": null,
   "id": "868709a4",
   "metadata": {},
   "outputs": [],
   "source": []
  }
 ],
 "metadata": {
  "kernelspec": {
   "display_name": "Python 3 (ipykernel)",
   "language": "python",
   "name": "python3"
  },
  "language_info": {
   "codemirror_mode": {
    "name": "ipython",
    "version": 3
   },
   "file_extension": ".py",
   "mimetype": "text/x-python",
   "name": "python",
   "nbconvert_exporter": "python",
   "pygments_lexer": "ipython3",
   "version": "3.9.7"
  }
 },
 "nbformat": 4,
 "nbformat_minor": 5
}
