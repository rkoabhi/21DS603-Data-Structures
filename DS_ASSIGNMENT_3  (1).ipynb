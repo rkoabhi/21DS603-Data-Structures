{
 "cells": [
  {
   "cell_type": "markdown",
   "metadata": {
    "id": "HJFQb5GZZWJl"
   },
   "source": [
    "# **ASSIGNMENT - 3**\n"
   ]
  },
  {
   "cell_type": "markdown",
   "metadata": {
    "id": "adWsKm47Z6br"
   },
   "source": [
    "**QUESTION 1:**\tConstruct a sparse and a dense matrices of size 1000x1000"
   ]
  },
  {
   "cell_type": "code",
   "execution_count": 1,
   "metadata": {
    "colab": {
     "base_uri": "https://localhost:8080/"
    },
    "id": "xJhDdJXX35QW",
    "outputId": "b8448578-cf63-4e8f-a17e-915b6d988b1f",
    "scrolled": true
   },
   "outputs": [
    {
     "name": "stdout",
     "output_type": "stream",
     "text": [
      "Sparse Matrix is \n",
      " [[0. 1. 0. ... 0. 0. 0.]\n",
      " [1. 0. 1. ... 0. 0. 0.]\n",
      " [0. 1. 0. ... 0. 0. 0.]\n",
      " ...\n",
      " [0. 0. 0. ... 0. 0. 0.]\n",
      " [0. 0. 0. ... 0. 0. 0.]\n",
      " [0. 0. 0. ... 0. 0. 0.]]\n",
      "***************************************\n",
      "Sparsity of the matrix =  0.999972\n",
      "Size of sparse matrix: 0.95 MB\n"
     ]
    }
   ],
   "source": [
    "# importing necessary functions\n",
    "import numpy as np\n",
    "from scipy.sparse import isspmatrix\n",
    "from numpy import count_nonzero\n",
    "\n",
    "# Creating sparse matrix\n",
    "\n",
    "# Position of non zero elements\n",
    "row = np.array([0, 1, 1, 2, 2, 3, 3 ,4 ,4 ,5 ,5 ,6 ,6 ,7 ,7 ,8 ,8 ,9 ,10 ,11 ,12 ,13 ,14 ,15 ,16 ,10 ,17,18])\n",
    "col = np.array([1, 0, 2, 1, 3, 2, 3 ,2 ,4 ,7 ,8 ,9 ,11 ,13 ,4 ,1 ,0 ,16 ,15 ,14 ,15 ,12 ,13 ,14 ,11 ,10 ,16,17])\n",
    "    \n",
    "# Creating sparse matrix of size 1000 X 1000\n",
    "sparseMatrix=np.zeros([1000,1000])\n",
    "for i,j in zip(row,col):\n",
    "  sparseMatrix[i][j]=1\n",
    "\n",
    "# Displaying the sparse matrix  \n",
    "print('Sparse Matrix is \\n',sparseMatrix)\n",
    "print('***************************************')\n",
    "\n",
    "# Calculate sparsity\n",
    "sparsity = 1.0 - count_nonzero(sparseMatrix) / sparseMatrix.size\n",
    "print('Sparsity of the matrix = ',sparsity)\n",
    "\n",
    "# Calculate size\n",
    "data_size = sparseMatrix.size/(1024**2)\n",
    "print('Size of sparse matrix: '+ '%3.2f' %data_size + ' MB')"
   ]
  },
  {
   "cell_type": "code",
   "execution_count": 2,
   "metadata": {
    "colab": {
     "base_uri": "https://localhost:8080/"
    },
    "id": "-E_DcDQZ7MSk",
    "outputId": "48504e20-376f-4a83-d5fe-763944003463"
   },
   "outputs": [
    {
     "name": "stdout",
     "output_type": "stream",
     "text": [
      "Dense Matrix is  [[8 9 7 ... 4 9 7]\n",
      " [3 9 2 ... 2 1 7]\n",
      " [5 1 9 ... 7 7 1]\n",
      " ...\n",
      " [6 3 6 ... 1 6 5]\n",
      " [5 7 4 ... 6 3 7]\n",
      " [7 5 6 ... 4 2 3]]\n",
      "***************************************\n",
      "Sparsity of the above dense matrix is 0.0\n",
      "Size of dense matrix: 0.95 MB\n"
     ]
    }
   ],
   "source": [
    "# Creating dense matrix 1000 X 1000\n",
    "denseMatrix=np.random.randint(1,10,(1000,1000))\n",
    "print('Dense Matrix is ',denseMatrix)\n",
    "print('***************************************')\n",
    "\n",
    "# calculate sparsity\n",
    "sparsity = 1.0 - count_nonzero(denseMatrix) / denseMatrix.size\n",
    "print('Sparsity of the above dense matrix is',sparsity)\n",
    "\n",
    "# Calculate size\n",
    "data_size = denseMatrix.size/(1024**2)\n",
    "print('Size of dense matrix: '+ '%3.2f' %data_size + ' MB')"
   ]
  },
  {
   "cell_type": "markdown",
   "metadata": {
    "id": "lRLFYw21gVCv"
   },
   "source": [
    "**QUESTION 2:** Identify the data structure to store the given sparse matrices"
   ]
  },
  {
   "cell_type": "markdown",
   "metadata": {
    "id": "KWDksvi8gjpM"
   },
   "source": [
    "The data structure used to store sparse matrix efficiently is **Adjacency List**.\n",
    "\n",
    "An adjacency list represents a graph as an array of linked lists. The index of the array represents a vertex and each element in its linked list represents the other vertices that form an edge with the vertex.\n",
    "\n",
    "It can represented as a simple dictionary of vertices and its edges is a sufficient representation of a graph."
   ]
  },
  {
   "cell_type": "markdown",
   "metadata": {
    "id": "UXSEYnrUgmTK"
   },
   "source": [
    "**QUESTION 3:** Justify your selection of data structure"
   ]
  },
  {
   "cell_type": "markdown",
   "metadata": {
    "id": "DgqHy4aCgmpW"
   },
   "source": [
    "1. An adjacency list is efficient in terms of storage because we only need to store the values for the edges. For a sparse graph with millions of vertices and edges, this can save a lot of space.\n",
    "\n",
    "2. It also helps to find all the vertices adjacent to a vertex easily.\n",
    "\n",
    "3. It is faster to use adjacency lists for graphs having less number of edges.\n",
    "\n",
    "\n",
    "\n"
   ]
  },
  {
   "cell_type": "markdown",
   "metadata": {
    "id": "StWa8iA7gugn"
   },
   "source": [
    "**QUESTION 4:** Write a program to implement the data structure"
   ]
  },
  {
   "cell_type": "code",
   "execution_count": 3,
   "metadata": {
    "id": "33gHw4ZyvTP7"
   },
   "outputs": [],
   "source": [
    "# Adjacency List representation array of linked lists\n",
    "tup=[]\n",
    "for i in range(0,1000):\n",
    "  for j in range(0,1000):\n",
    "    if(sparseMatrix[i][j]==1):\n",
    "      tu=int(i),int(j)\n",
    "      tup.append(tu)"
   ]
  },
  {
   "cell_type": "code",
   "execution_count": 4,
   "metadata": {
    "colab": {
     "base_uri": "https://localhost:8080/"
    },
    "id": "M9STBUe8vI5u",
    "outputId": "d9325cc1-4b9d-40fd-ccdc-8bb3f355cf35"
   },
   "outputs": [
    {
     "name": "stdout",
     "output_type": "stream",
     "text": [
      "Vertex 0: -> 8 -> 1 -> 1 \n",
      "\n",
      "Vertex 1: -> 8 -> 2 -> 2 -> 0 -> 0 \n",
      "\n",
      "Vertex 2: -> 4 -> 3 -> 3 -> 1 -> 1 \n",
      "\n",
      "Vertex 3: -> 3 -> 3 -> 2 -> 2 \n",
      "\n",
      "Vertex 4: -> 7 -> 4 -> 4 -> 2 \n",
      "\n",
      "Vertex 5: -> 8 -> 7 \n",
      "\n",
      "Vertex 6: -> 11 -> 9 \n",
      "\n",
      "Vertex 7: -> 13 -> 4 -> 5 \n",
      "\n",
      "Vertex 8: -> 1 -> 0 -> 5 \n",
      "\n",
      "Vertex 9: -> 16 -> 6 \n",
      "\n",
      "Vertex 10: -> 15 -> 10 -> 10 \n",
      "\n",
      "Vertex 11: -> 16 -> 14 -> 6 \n",
      "\n",
      "Vertex 12: -> 13 -> 15 \n",
      "\n",
      "Vertex 13: -> 14 -> 12 -> 7 \n",
      "\n",
      "Vertex 14: -> 15 -> 13 -> 11 \n",
      "\n",
      "Vertex 15: -> 14 -> 12 -> 10 \n",
      "\n",
      "Vertex 16: -> 17 -> 11 -> 9 \n",
      "\n",
      "Vertex 17: -> 18 -> 16 \n",
      "\n",
      "Vertex 18: -> 17 \n",
      "\n",
      "**************************************\n",
      "Adjacency list: {0: [8, 1, 1], 1: [8, 2, 2, 0, 0], 2: [4, 3, 3, 1, 1], 3: [3, 3, 2, 2], 4: [7, 4, 4, 2], 5: [8, 7], 6: [11, 9], 7: [13, 4, 5], 8: [1, 0, 5], 9: [16, 6], 10: [15, 10, 10], 11: [16, 14, 6], 12: [13, 15], 13: [14, 12, 7], 14: [15, 13, 11], 15: [14, 12, 10], 16: [17, 11, 9], 17: [18, 16], 18: [17]}\n"
     ]
    }
   ],
   "source": [
    "class AdjNode:\n",
    "    def __init__(self, value):\n",
    "        self.vertex = value\n",
    "        self.next = None\n",
    "\n",
    "class Graph:\n",
    "    def __init__(self, num):\n",
    "        self.V = num\n",
    "        self.graph = [None] * self.V\n",
    "\n",
    "    # Add edges\n",
    "    def add_edge(self, s, d):\n",
    "        node = AdjNode(d)\n",
    "        node.next = self.graph[s]\n",
    "        self.graph[s] = node\n",
    "\n",
    "        node = AdjNode(s)\n",
    "        node.next = self.graph[d]\n",
    "        self.graph[d] = node\n",
    "\n",
    "    # Print the adjacency list\n",
    "    def print_agraph(self):\n",
    "        d={}\n",
    "        for i in range(self.V):\n",
    "            print(\"Vertex \" + str(i) + \":\", end=\"\")\n",
    "            temp = self.graph[i]\n",
    "            l=[]\n",
    "            d1={}\n",
    "            while temp:\n",
    "                l.append(temp.vertex)\n",
    "                print(\" -> {}\".format(temp.vertex), end=\"\")\n",
    "                temp = temp.next\n",
    "            d1[i]=l\n",
    "            l=[]\n",
    "            d.update(d1)\n",
    "            print(\" \\n\")\n",
    "        return d\n",
    "\n",
    "if __name__ == \"__main__\":\n",
    "    V = 19\n",
    "    graph = Graph(V)\n",
    "    for e in tup:\n",
    "      graph.add_edge(e[0],e[1])\n",
    "\n",
    "    #graph.print_agraph()\n",
    "    s=graph.print_agraph()\n",
    "    print('**************************************')\n",
    "    print('Adjacency list:',s)\n",
    "\n",
    "    # Calculate size\n",
    "    #data_size = ((sys.getsizeof(s))/(1024**2))*1024\n",
    "    #print('Size of adjacency list of sparse matrix: '+ '%3.2f' %data_size + ' KB')"
   ]
  },
  {
   "cell_type": "code",
   "execution_count": 5,
   "metadata": {
    "colab": {
     "base_uri": "https://localhost:8080/"
    },
    "id": "Sr-R2mqmNQOn",
    "outputId": "f366da18-76e8-492c-c158-465647753860"
   },
   "outputs": [
    {
     "name": "stdout",
     "output_type": "stream",
     "text": [
      "Adjacency List:\n",
      "0 -> 1\n",
      "1 -> 0 -> 2\n",
      "2 -> 1 -> 3\n",
      "3 -> 2 -> 3\n",
      "4 -> 2 -> 4\n",
      "5 -> 7 -> 8\n",
      "6 -> 9 -> 11\n",
      "7 -> 4 -> 13\n",
      "8 -> 0 -> 1\n",
      "9 -> 16\n",
      "10 -> 10 -> 15\n",
      "11 -> 14\n",
      "12 -> 15\n",
      "13 -> 12\n",
      "14 -> 13\n",
      "15 -> 14\n",
      "16 -> 11\n",
      "17 -> 16\n",
      "18 -> 17\n",
      "**************************************\n",
      "defaultdict(<class 'list'>, {0: [1], 1: [0, 2], 2: [1, 3], 3: [2, 3], 4: [2, 4], 5: [7, 8], 6: [9, 11], 7: [4, 13], 8: [0, 1], 9: [16], 10: [10, 15], 11: [14], 12: [15], 13: [12], 14: [13], 15: [14], 16: [11], 17: [16], 18: [17]})\n",
      "Size of adjacencey list of sparse matrix: 0.63 KB\n"
     ]
    }
   ],
   "source": [
    "# Convert Adjacency matrix representation to Adjacency List dictionary of lists\n",
    "from collections import defaultdict\n",
    "import sys\n",
    "\n",
    "def convert(a):\n",
    "    adjList = defaultdict(list)\n",
    "    for i in range(len(a)):\n",
    "        for j in range(len(a[i])):\n",
    "                       if a[i][j]== 1:\n",
    "                           adjList[i].append(j)\n",
    "    return adjList\n",
    " \n",
    "# driver code\n",
    "a = sparseMatrix # adjacency matrix\n",
    "AdjList = convert(a)\n",
    "print(\"Adjacency List:\")\n",
    "\n",
    "# print the adjacency list\n",
    "for i in AdjList:\n",
    "    print(i, end =\"\")\n",
    "    for j in AdjList[i]:\n",
    "        print(\" -> {}\".format(j), end =\"\")\n",
    "    print()\n",
    "print('**************************************')\n",
    "print(AdjList)\n",
    "# Calculate size\n",
    "data_size = ((sys.getsizeof(AdjList))/(1024**2))*1024\n",
    "print('Size of adjacencey list of sparse matrix: '+ '%3.2f' %data_size + ' KB')"
   ]
  },
  {
   "cell_type": "markdown",
   "metadata": {
    "id": "9q3Mgab0ZT1Q"
   },
   "source": [
    "**QUESTION 5:** Write a function to visualize the sparse matrix in a graphical format "
   ]
  },
  {
   "cell_type": "code",
   "execution_count": 6,
   "metadata": {
    "colab": {
     "base_uri": "https://localhost:8080/",
     "height": 356
    },
    "id": "ZPnJkUV_QFin",
    "outputId": "4f8352df-701e-485c-83b9-533631e7fbd4"
   },
   "outputs": [
    {
     "name": "stdout",
     "output_type": "stream",
     "text": [
      "[(0, 1), (0, 8), (1, 2), (1, 8), (2, 3), (2, 4), (3, 3), (4, 4), (4, 7), (5, 7), (5, 8), (7, 13), (6, 9), (6, 11), (9, 16), (11, 14), (11, 16), (13, 12), (13, 14), (16, 17), (10, 10), (10, 15), (15, 12), (15, 14), (17, 18)]\n"
     ]
    },
    {
     "data": {
      "image/png": "[encoded data removed]",
      "text/plain": [
       "<Figure size 432x288 with 1 Axes>"
      ]
     },
     "metadata": {},
     "output_type": "display_data"
    }
   ],
   "source": [
    "# visualizing graph using the adjacency list of form dictionary of lists\n",
    "import networkx as nx\n",
    "import matplotlib.pyplot as plt\n",
    "\n",
    "graph = AdjList\n",
    "edge = [] \n",
    "\n",
    "# Creating edges\n",
    "for i in graph:\n",
    "  for k in graph[i]:\n",
    "    tup = int(i), int(k)\n",
    "    edge.append(tup)\n",
    "\n",
    "g = nx.Graph()\n",
    "\n",
    "# Adding edges to the graph\n",
    "for e in edge:\n",
    "  g.add_edge(e[0], e[1])\n",
    "print(g.edges)\n",
    "\n",
    "nx.draw(g, with_labels = True)"
   ]
  },
  {
   "cell_type": "code",
   "execution_count": null,
   "metadata": {
    "colab": {
     "base_uri": "https://localhost:8080/",
     "height": 356
    },
    "id": "sIy6oQsv9ULs",
    "outputId": "c4b444b9-a383-4cb0-ef21-4da31efc487f"
   },
   "outputs": [],
   "source": []
  }
 ],
 "metadata": {
  "accelerator": "GPU",
  "colab": {
   "collapsed_sections": [],
   "name": "DS ASSIGNMENT 3",
   "provenance": []
  },
  "kernelspec": {
   "display_name": "Python 3 (ipykernel)",
   "language": "python",
   "name": "python3"
  },
  "language_info": {
   "codemirror_mode": {
    "name": "ipython",
    "version": 3
   },
   "file_extension": ".py",
   "mimetype": "text/x-python",
   "name": "python",
   "nbconvert_exporter": "python",
   "pygments_lexer": "ipython3",
   "version": "3.9.7"
  }
 },
 "nbformat": 4,
 "nbformat_minor": 1
}
